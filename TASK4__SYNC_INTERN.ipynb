{
  "nbformat": 4,
  "nbformat_minor": 0,
  "metadata": {
    "colab": {
      "provenance": []
    },
    "kernelspec": {
      "name": "python3",
      "display_name": "Python 3"
    },
    "language_info": {
      "name": "python"
    }
  },
  "cells": [
    {
      "cell_type": "markdown",
      "source": [
        "# **CHATBOT USING PYTHON AND NLTK**"
      ],
      "metadata": {
        "id": "Qs80YoouFGnO"
      }
    },
    {
      "cell_type": "code",
      "execution_count": 21,
      "metadata": {
        "id": "Nz9mJBKXSmvW"
      },
      "outputs": [],
      "source": [
        "import nltk\n",
        "from nltk.chat.util import Chat, reflections"
      ]
    },
    {
      "cell_type": "code",
      "source": [
        "# Predefined patterns and responses for the chatbot\n",
        "patterns = [\n",
        "    (r'menu please ..', ['Burger , Pizza , Salad , Pasta ,Shawarama, Dessert']),\n",
        "    (r'any special and famous dish in your restro', ['yes , we have a classic beef burger with lettuce, tomato, and cheese ']),\n",
        "    (r'payment ', ['cash or online payment']),\n",
        "    (r' online payment', ['Sure']),\n",
        "    (r'Any soft drinks ', ['No sir ... but we have a selection of mouthwatering dessert to satisfy your mouth tooth']),\n",
        "    (r'No thanks', ['Ok sir... wait for 15 mintues you will get your order in your table with bill']),\n",
        "]"
      ],
      "metadata": {
        "id": "MVjCIlxaS3YZ"
      },
      "execution_count": 22,
      "outputs": []
    },
    {
      "cell_type": "code",
      "source": [
        "# Initialize the chatbot with the predefined patterns\n",
        "chatbot = Chat(patterns, reflections)"
      ],
      "metadata": {
        "id": "1j_o4uR-S7HH"
      },
      "execution_count": 23,
      "outputs": []
    },
    {
      "cell_type": "code",
      "source": [
        "# Main loop to interact with the chatbot\n",
        "print(\"Chatbot: Welcome to our restuarant!  We have a variety of delicious food items\")\n",
        "while True:\n",
        "    user_input = input(\"You: \").strip().lower()\n",
        "    if user_input == 'exit':\n",
        "        print(\"Chatbot: Thank you for visiting us ! Have a nice day.\")\n",
        "        break\n",
        "    response = chatbot.respond(user_input)\n",
        "    print(\"Chatbot:\", response)"
      ],
      "metadata": {
        "colab": {
          "base_uri": "https://localhost:8080/"
        },
        "id": "Cy8xifpxS9fo",
        "outputId": "884158f3-809f-4f65-ae75-0111d83692c9"
      },
      "execution_count": 24,
      "outputs": [
        {
          "output_type": "stream",
          "name": "stdout",
          "text": [
            "Chatbot: Welcome to our restuarant!  We have a variety of delicious food items\n",
            "You: menu please ..\n",
            "Chatbot: Burger , Pizza , Salad , Pasta ,Shawarama, Dessert\n",
            "You: Any soft drinks \n",
            "Chatbot: None\n",
            "You: any special and famous dish in your restro\n",
            "Chatbot: yes , we have a classic beef burger with lettuce, tomato, and cheese \n",
            "You: payment  \n",
            "Chatbot: None\n",
            "You: No thanks\n",
            "Chatbot: Ok sir... wait for 15 mintues you will get your order in your table with bill\n",
            "You:   online payment\n",
            "Chatbot: None\n",
            "You: exit\n",
            "Chatbot: Thank you for visiting us ! Have a nice day.\n"
          ]
        }
      ]
    },
    {
      "cell_type": "code",
      "source": [],
      "metadata": {
        "id": "ODNBjHWITPJw"
      },
      "execution_count": 16,
      "outputs": []
    }
  ]
}