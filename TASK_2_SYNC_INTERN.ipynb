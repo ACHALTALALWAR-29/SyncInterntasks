{
  "cells": [
    {
      "cell_type": "markdown",
      "source": [
        "**OTP VERIFICATION USING PYTHON**"
      ],
      "metadata": {
        "id": "PqoACKPLP5ed"
      }
    },
    {
      "cell_type": "code",
      "execution_count": 12,
      "metadata": {
        "id": "XN0zSyCAFouJ"
      },
      "outputs": [],
      "source": [
        "import smtplib\n",
        "import os\n",
        "import math\n",
        "import random\n",
        "import smtplib"
      ]
    },
    {
      "cell_type": "code",
      "execution_count": 13,
      "metadata": {
        "id": "P3r3Hov5FouS"
      },
      "outputs": [],
      "source": [
        "digits = \"0123456789\"\n",
        "OTP = \"\"\n",
        "\n",
        "for i in range (6):\n",
        "    OTP += digits[math.floor(random.random()*10)]\n",
        "\n",
        "otp = OTP + \"is your OTP\"\n",
        "message = otp"
      ]
    },
    {
      "cell_type": "code",
      "source": [
        "s = smtplib.SMTP('smtp.gmail.com', 587)\n",
        "s.starttls()\n",
        "\n",
        "emailid = input(\"Enter your email: \")\n",
        "s.login(\"achaltalalwar2002@gmail.com\", \"zsljtbzcbdggavpf\")\n",
        "s.sendmail('&&&&&&',emailid,message)\n",
        "\n",
        "a = input(\"Enter your OTP >>: \")\n",
        "if a == OTP:\n",
        "    print(\"Verified\")\n",
        "else:\n",
        "    print(\"Please Check your OTP again\")\n"
      ],
      "metadata": {
        "colab": {
          "base_uri": "https://localhost:8080/"
        },
        "id": "uT-3jsVWMnlO",
        "outputId": "c8c0c7b7-3cab-4d52-9131-b16b9996f162"
      },
      "execution_count": 14,
      "outputs": [
        {
          "output_type": "stream",
          "name": "stdout",
          "text": [
            "Enter your email: achal.talalwar.ai@ghrce.raisoni.net\n",
            "Enter your OTP >>: 038195\n",
            "Verified\n"
          ]
        }
      ]
    }
  ],
  "metadata": {
    "kernelspec": {
      "display_name": "Python 3",
      "language": "python",
      "name": "python3"
    },
    "language_info": {
      "codemirror_mode": {
        "name": "ipython",
        "version": 3
      },
      "file_extension": ".py",
      "mimetype": "text/x-python",
      "name": "python",
      "nbconvert_exporter": "python",
      "pygments_lexer": "ipython3",
      "version": "3.10.9"
    },
    "colab": {
      "provenance": []
    }
  },
  "nbformat": 4,
  "nbformat_minor": 0
}