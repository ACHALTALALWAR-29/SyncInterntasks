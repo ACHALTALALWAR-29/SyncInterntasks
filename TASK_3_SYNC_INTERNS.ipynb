{
  "cells": [
    {
      "cell_type": "markdown",
      "source": [
        "**URL Shortener with python**"
      ],
      "metadata": {
        "id": "_rCSUaYwYJpW"
      }
    },
    {
      "cell_type": "code",
      "execution_count": 8,
      "metadata": {
        "id": "guOWkSu_OJhM"
      },
      "outputs": [],
      "source": [
        "import requests\n",
        "import sys"
      ]
    },
    {
      "cell_type": "code",
      "execution_count": 9,
      "metadata": {
        "colab": {
          "base_uri": "https://localhost:8080/"
        },
        "id": "-wYTfIXEOJhO",
        "outputId": "6b2dbc12-2b42-43c2-b2c2-c7e3093b158e"
      },
      "outputs": [
        {
          "name": "stdout",
          "output_type": "stream",
          "text": [
            "ENTER THE URLhttps://colab.research.google.com/drive/1IoVncnXDovZc4rdex0IHHBFyXP6ADAXx#scrollTo=-wYTfIXEOJhO\n"
          ]
        }
      ],
      "source": [
        "api_key = \"2c5ac66bfbe94d80098d8affcc466b1bb8cfd\"\n",
        "\n",
        "url = input(\"ENTER THE URL\")\n",
        "\n",
        "api_url = f\"https://cutt.ly/api/api.php?key={api_key}&short={url}\"# Setting up api key of Cutt.ly api"
      ]
    },
    {
      "cell_type": "code",
      "source": [
        "ADT = requests.get(api_url).json()[\"url\"]\n",
        "if ADT[\"status\"] == 7:\n",
        "    shortened_url = ADT[\"shortLink\"]\n",
        "    print(\"Shortened URL:\", shortened_url)\n",
        "else:\n",
        "    print(\"[!] Error Shortening URL:\", ADT)"
      ],
      "metadata": {
        "colab": {
          "base_uri": "https://localhost:8080/"
        },
        "id": "HigUB_KIZv6N",
        "outputId": "21b34a10-f5cf-4b1b-ae3b-64432867201c"
      },
      "execution_count": 10,
      "outputs": [
        {
          "output_type": "stream",
          "name": "stdout",
          "text": [
            "Shortened URL: https://cutt.ly/0wdoKjge\n"
          ]
        }
      ]
    }
  ],
  "metadata": {
    "kernelspec": {
      "display_name": "Python 3",
      "language": "python",
      "name": "python3"
    },
    "language_info": {
      "codemirror_mode": {
        "name": "ipython",
        "version": 3
      },
      "file_extension": ".py",
      "mimetype": "text/x-python",
      "name": "python",
      "nbconvert_exporter": "python",
      "pygments_lexer": "ipython3",
      "version": "3.10.9"
    },
    "orig_nbformat": 4,
    "colab": {
      "provenance": []
    }
  },
  "nbformat": 4,
  "nbformat_minor": 0
}